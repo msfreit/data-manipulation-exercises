{
 "cells": [
  {
   "cell_type": "markdown",
   "metadata": {
    "colab_type": "text",
    "id": "hAcVCqunNHPq"
   },
   "source": [
    "![](https://i.imgur.com/JsMvGnP.png)"
   ]
  },
  {
   "cell_type": "markdown",
   "metadata": {
    "colab_type": "text",
    "id": "xlIVUULwujKa"
   },
   "source": [
    "\n",
    "## Exercícios de manipulação de dados - Parte 3"
   ]
  },
  {
   "cell_type": "markdown",
   "metadata": {
    "colab_type": "text",
    "id": "RoztT_BzujKc"
   },
   "source": [
    "Neste Jupyter notebook você irá resolver uma exercícios utilizando a biblioteca Pandas.\\\n",
    "Todos os datasets utilizados nos exercícios estão salvos na pasta *datasets*.\\\n",
    "Todo o seu código deve ser executado neste Jupyter Notebook. Por fim, se desejar, revise as respostas com o seu mentor."
   ]
  },
  {
   "cell_type": "markdown",
   "metadata": {
    "colab_type": "text",
    "id": "VYyMlLtIujKe"
   },
   "source": [
    "#### Tarefa 1. Importe o dataset e salve os dados em um dataframe\n",
    "\n",
    "Os dados estão salvos no arquivo ***datasets/users_dataset.txt***.\\\n",
    "Salve os dados em uma variável de nome *users*."
   ]
  },
  {
   "cell_type": "code",
   "execution_count": 7,
   "metadata": {},
   "outputs": [
    {
     "output_type": "execute_result",
     "data": {
      "text/plain": [
       "   user_id  age gender  occupation zip_code\n",
       "0        1   24      M  technician    85711\n",
       "1        2   53      F       other    94043\n",
       "2        3   23      M      writer    32067\n",
       "3        4   24      M  technician    43537\n",
       "4        5   33      F       other    15213"
      ],
      "text/html": "<div>\n<style scoped>\n    .dataframe tbody tr th:only-of-type {\n        vertical-align: middle;\n    }\n\n    .dataframe tbody tr th {\n        vertical-align: top;\n    }\n\n    .dataframe thead th {\n        text-align: right;\n    }\n</style>\n<table border=\"1\" class=\"dataframe\">\n  <thead>\n    <tr style=\"text-align: right;\">\n      <th></th>\n      <th>user_id</th>\n      <th>age</th>\n      <th>gender</th>\n      <th>occupation</th>\n      <th>zip_code</th>\n    </tr>\n  </thead>\n  <tbody>\n    <tr>\n      <th>0</th>\n      <td>1</td>\n      <td>24</td>\n      <td>M</td>\n      <td>technician</td>\n      <td>85711</td>\n    </tr>\n    <tr>\n      <th>1</th>\n      <td>2</td>\n      <td>53</td>\n      <td>F</td>\n      <td>other</td>\n      <td>94043</td>\n    </tr>\n    <tr>\n      <th>2</th>\n      <td>3</td>\n      <td>23</td>\n      <td>M</td>\n      <td>writer</td>\n      <td>32067</td>\n    </tr>\n    <tr>\n      <th>3</th>\n      <td>4</td>\n      <td>24</td>\n      <td>M</td>\n      <td>technician</td>\n      <td>43537</td>\n    </tr>\n    <tr>\n      <th>4</th>\n      <td>5</td>\n      <td>33</td>\n      <td>F</td>\n      <td>other</td>\n      <td>15213</td>\n    </tr>\n  </tbody>\n</table>\n</div>"
     },
     "metadata": {},
     "execution_count": 7
    }
   ],
   "source": [
    "import pandas as pd\n",
    "users = pd.read_csv(\"./datasets/users_dataset.csv\", \"|\")\n",
    "users.head()"
   ]
  },
  {
   "cell_type": "markdown",
   "metadata": {
    "colab_type": "text",
    "id": "GpGg63VvujKh"
   },
   "source": [
    "#### Tarefa 2. Descubra qual a idade média por ocupação.\n",
    "\n",
    "*Dica: use a função groupby do Pandas na coluna occupation*"
   ]
  },
  {
   "cell_type": "code",
   "execution_count": 17,
   "metadata": {
    "colab": {},
    "colab_type": "code",
    "id": "xCzIIT60ujKi"
   },
   "outputs": [
    {
     "output_type": "execute_result",
     "data": {
      "text/plain": [
       "                     age            user_id\n",
       "                    mean        std     max\n",
       "occupation                                 \n",
       "administrator  38.746835  11.123397     940\n",
       "artist         31.392857   8.668116     920\n",
       "doctor         43.571429  12.501428     935\n",
       "educator       42.010526  10.413264     937\n",
       "engineer       36.388060  11.199236     934\n",
       "entertainment  29.222222  10.056052     926\n",
       "executive      38.718750  10.608075     901\n",
       "healthcare     41.562500  11.313524     910\n",
       "homemaker      32.571429  10.737119     898\n",
       "lawyer         36.750000  10.830303     846\n",
       "librarian      40.000000  11.023611     942\n",
       "marketing      37.615385   9.474500     881\n",
       "none           26.555556  13.757826     756\n",
       "other          34.523810  10.738227     936\n",
       "programmer     33.121212   9.624512     927\n",
       "retired        63.071429   5.757461     900\n",
       "salesman       35.666667  14.079859     925\n",
       "scientist      35.548387   7.392964     930\n",
       "student        22.081633   5.284081     943\n",
       "technician     33.148148   9.867210     938\n",
       "writer         36.311111  11.423306     911"
      ],
      "text/html": "<div>\n<style scoped>\n    .dataframe tbody tr th:only-of-type {\n        vertical-align: middle;\n    }\n\n    .dataframe tbody tr th {\n        vertical-align: top;\n    }\n\n    .dataframe thead tr th {\n        text-align: left;\n    }\n\n    .dataframe thead tr:last-of-type th {\n        text-align: right;\n    }\n</style>\n<table border=\"1\" class=\"dataframe\">\n  <thead>\n    <tr>\n      <th></th>\n      <th colspan=\"2\" halign=\"left\">age</th>\n      <th>user_id</th>\n    </tr>\n    <tr>\n      <th></th>\n      <th>mean</th>\n      <th>std</th>\n      <th>max</th>\n    </tr>\n    <tr>\n      <th>occupation</th>\n      <th></th>\n      <th></th>\n      <th></th>\n    </tr>\n  </thead>\n  <tbody>\n    <tr>\n      <th>administrator</th>\n      <td>38.746835</td>\n      <td>11.123397</td>\n      <td>940</td>\n    </tr>\n    <tr>\n      <th>artist</th>\n      <td>31.392857</td>\n      <td>8.668116</td>\n      <td>920</td>\n    </tr>\n    <tr>\n      <th>doctor</th>\n      <td>43.571429</td>\n      <td>12.501428</td>\n      <td>935</td>\n    </tr>\n    <tr>\n      <th>educator</th>\n      <td>42.010526</td>\n      <td>10.413264</td>\n      <td>937</td>\n    </tr>\n    <tr>\n      <th>engineer</th>\n      <td>36.388060</td>\n      <td>11.199236</td>\n      <td>934</td>\n    </tr>\n    <tr>\n      <th>entertainment</th>\n      <td>29.222222</td>\n      <td>10.056052</td>\n      <td>926</td>\n    </tr>\n    <tr>\n      <th>executive</th>\n      <td>38.718750</td>\n      <td>10.608075</td>\n      <td>901</td>\n    </tr>\n    <tr>\n      <th>healthcare</th>\n      <td>41.562500</td>\n      <td>11.313524</td>\n      <td>910</td>\n    </tr>\n    <tr>\n      <th>homemaker</th>\n      <td>32.571429</td>\n      <td>10.737119</td>\n      <td>898</td>\n    </tr>\n    <tr>\n      <th>lawyer</th>\n      <td>36.750000</td>\n      <td>10.830303</td>\n      <td>846</td>\n    </tr>\n    <tr>\n      <th>librarian</th>\n      <td>40.000000</td>\n      <td>11.023611</td>\n      <td>942</td>\n    </tr>\n    <tr>\n      <th>marketing</th>\n      <td>37.615385</td>\n      <td>9.474500</td>\n      <td>881</td>\n    </tr>\n    <tr>\n      <th>none</th>\n      <td>26.555556</td>\n      <td>13.757826</td>\n      <td>756</td>\n    </tr>\n    <tr>\n      <th>other</th>\n      <td>34.523810</td>\n      <td>10.738227</td>\n      <td>936</td>\n    </tr>\n    <tr>\n      <th>programmer</th>\n      <td>33.121212</td>\n      <td>9.624512</td>\n      <td>927</td>\n    </tr>\n    <tr>\n      <th>retired</th>\n      <td>63.071429</td>\n      <td>5.757461</td>\n      <td>900</td>\n    </tr>\n    <tr>\n      <th>salesman</th>\n      <td>35.666667</td>\n      <td>14.079859</td>\n      <td>925</td>\n    </tr>\n    <tr>\n      <th>scientist</th>\n      <td>35.548387</td>\n      <td>7.392964</td>\n      <td>930</td>\n    </tr>\n    <tr>\n      <th>student</th>\n      <td>22.081633</td>\n      <td>5.284081</td>\n      <td>943</td>\n    </tr>\n    <tr>\n      <th>technician</th>\n      <td>33.148148</td>\n      <td>9.867210</td>\n      <td>938</td>\n    </tr>\n    <tr>\n      <th>writer</th>\n      <td>36.311111</td>\n      <td>11.423306</td>\n      <td>911</td>\n    </tr>\n  </tbody>\n</table>\n</div>"
     },
     "metadata": {},
     "execution_count": 17
    }
   ],
   "source": [
    "(users\n",
    ".groupby(\"occupation\")\n",
    ".agg({\"age\":[\"mean\", \"std\"],\"user_id\" : \"max\"}))"
   ]
  },
  {
   "cell_type": "markdown",
   "metadata": {
    "colab_type": "text",
    "id": "y1R0vw2XujKn"
   },
   "source": [
    "#### Tarefa 3. Para cada ocupação descubra a idade mínima e máxima."
   ]
  },
  {
   "cell_type": "code",
   "execution_count": 19,
   "metadata": {
    "colab": {},
    "colab_type": "code",
    "id": "GhhaqSCtujKp"
   },
   "outputs": [
    {
     "output_type": "execute_result",
     "data": {
      "text/plain": [
       "              age    \n",
       "              min max\n",
       "occupation           \n",
       "administrator  21  70\n",
       "artist         19  48\n",
       "doctor         28  64\n",
       "educator       23  63\n",
       "engineer       22  70\n",
       "entertainment  15  50\n",
       "executive      22  69\n",
       "healthcare     22  62\n",
       "homemaker      20  50\n",
       "lawyer         21  53\n",
       "librarian      23  69\n",
       "marketing      24  55\n",
       "none           11  55\n",
       "other          13  64\n",
       "programmer     20  63\n",
       "retired        51  73\n",
       "salesman       18  66\n",
       "scientist      23  55\n",
       "student         7  42\n",
       "technician     21  55\n",
       "writer         18  60"
      ],
      "text/html": "<div>\n<style scoped>\n    .dataframe tbody tr th:only-of-type {\n        vertical-align: middle;\n    }\n\n    .dataframe tbody tr th {\n        vertical-align: top;\n    }\n\n    .dataframe thead tr th {\n        text-align: left;\n    }\n\n    .dataframe thead tr:last-of-type th {\n        text-align: right;\n    }\n</style>\n<table border=\"1\" class=\"dataframe\">\n  <thead>\n    <tr>\n      <th></th>\n      <th colspan=\"2\" halign=\"left\">age</th>\n    </tr>\n    <tr>\n      <th></th>\n      <th>min</th>\n      <th>max</th>\n    </tr>\n    <tr>\n      <th>occupation</th>\n      <th></th>\n      <th></th>\n    </tr>\n  </thead>\n  <tbody>\n    <tr>\n      <th>administrator</th>\n      <td>21</td>\n      <td>70</td>\n    </tr>\n    <tr>\n      <th>artist</th>\n      <td>19</td>\n      <td>48</td>\n    </tr>\n    <tr>\n      <th>doctor</th>\n      <td>28</td>\n      <td>64</td>\n    </tr>\n    <tr>\n      <th>educator</th>\n      <td>23</td>\n      <td>63</td>\n    </tr>\n    <tr>\n      <th>engineer</th>\n      <td>22</td>\n      <td>70</td>\n    </tr>\n    <tr>\n      <th>entertainment</th>\n      <td>15</td>\n      <td>50</td>\n    </tr>\n    <tr>\n      <th>executive</th>\n      <td>22</td>\n      <td>69</td>\n    </tr>\n    <tr>\n      <th>healthcare</th>\n      <td>22</td>\n      <td>62</td>\n    </tr>\n    <tr>\n      <th>homemaker</th>\n      <td>20</td>\n      <td>50</td>\n    </tr>\n    <tr>\n      <th>lawyer</th>\n      <td>21</td>\n      <td>53</td>\n    </tr>\n    <tr>\n      <th>librarian</th>\n      <td>23</td>\n      <td>69</td>\n    </tr>\n    <tr>\n      <th>marketing</th>\n      <td>24</td>\n      <td>55</td>\n    </tr>\n    <tr>\n      <th>none</th>\n      <td>11</td>\n      <td>55</td>\n    </tr>\n    <tr>\n      <th>other</th>\n      <td>13</td>\n      <td>64</td>\n    </tr>\n    <tr>\n      <th>programmer</th>\n      <td>20</td>\n      <td>63</td>\n    </tr>\n    <tr>\n      <th>retired</th>\n      <td>51</td>\n      <td>73</td>\n    </tr>\n    <tr>\n      <th>salesman</th>\n      <td>18</td>\n      <td>66</td>\n    </tr>\n    <tr>\n      <th>scientist</th>\n      <td>23</td>\n      <td>55</td>\n    </tr>\n    <tr>\n      <th>student</th>\n      <td>7</td>\n      <td>42</td>\n    </tr>\n    <tr>\n      <th>technician</th>\n      <td>21</td>\n      <td>55</td>\n    </tr>\n    <tr>\n      <th>writer</th>\n      <td>18</td>\n      <td>60</td>\n    </tr>\n  </tbody>\n</table>\n</div>"
     },
     "metadata": {},
     "execution_count": 19
    }
   ],
   "source": [
    "(users\n",
    ".groupby(\"occupation\")\n",
    ".agg({\"age\": [\"min\",\"max\"]}))"
   ]
  },
  {
   "cell_type": "markdown",
   "metadata": {
    "colab_type": "text",
    "id": "DT-Lcsz2ujKz"
   },
   "source": [
    "#### Tarefa 4. Para cada combinação de ocupação e sexo, calcule a idade média.\n",
    "\n",
    "Exemplo:\n",
    "\n",
    "```\n",
    "occupation     gender\n",
    "administrator  F         40.638889\n",
    "               M         37.162791\n",
    "artist         F         30.307692\n",
    "               M         32.333333\n",
    "```"
   ]
  },
  {
   "cell_type": "code",
   "execution_count": 23,
   "metadata": {
    "colab": {},
    "colab_type": "code",
    "id": "aMIV75fTujKz"
   },
   "outputs": [
    {
     "output_type": "execute_result",
     "data": {
      "text/plain": [
       "                            age        \n",
       "                           mean min max\n",
       "occupation    gender                   \n",
       "administrator F       40.638889  22  62\n",
       "              M       37.162791  21  70\n",
       "artist        F       30.307692  19  48\n",
       "              M       32.333333  20  45\n",
       "doctor        M       43.571429  28  64\n",
       "educator      F       39.115385  23  51\n",
       "              M       43.101449  25  63\n",
       "engineer      F       29.500000  23  36\n",
       "              M       36.600000  22  70\n",
       "entertainment F       31.000000  24  38\n",
       "              M       29.000000  15  50\n",
       "executive     F       44.000000  39  49\n",
       "              M       38.172414  22  69\n",
       "healthcare    F       39.818182  22  53\n",
       "              M       45.400000  28  62\n",
       "homemaker     F       34.166667  20  50\n",
       "              M       23.000000  23  23\n",
       "lawyer        F       39.500000  28  51\n",
       "              M       36.200000  21  53\n",
       "librarian     F       40.000000  26  59\n",
       "              M       40.000000  23  69\n",
       "marketing     F       37.200000  24  50\n",
       "              M       37.875000  24  55\n",
       "none          F       36.500000  26  55\n",
       "              M       18.600000  11  33\n",
       "other         F       35.472222  18  55\n",
       "              M       34.028986  13  64\n",
       "programmer    F       32.166667  26  38\n",
       "              M       33.216667  20  63\n",
       "retired       F       70.000000  70  70\n",
       "              M       62.538462  51  73\n",
       "salesman      F       27.000000  18  33\n",
       "              M       38.555556  21  66\n",
       "scientist     F       28.333333  26  31\n",
       "              M       36.321429  23  55\n",
       "student       F       20.750000  13  38\n",
       "              M       22.669118   7  42\n",
       "technician    F       38.000000  38  38\n",
       "              M       32.961538  21  55\n",
       "writer        F       37.631579  18  56\n",
       "              M       35.346154  21  60"
      ],
      "text/html": "<div>\n<style scoped>\n    .dataframe tbody tr th:only-of-type {\n        vertical-align: middle;\n    }\n\n    .dataframe tbody tr th {\n        vertical-align: top;\n    }\n\n    .dataframe thead tr th {\n        text-align: left;\n    }\n\n    .dataframe thead tr:last-of-type th {\n        text-align: right;\n    }\n</style>\n<table border=\"1\" class=\"dataframe\">\n  <thead>\n    <tr>\n      <th></th>\n      <th></th>\n      <th colspan=\"3\" halign=\"left\">age</th>\n    </tr>\n    <tr>\n      <th></th>\n      <th></th>\n      <th>mean</th>\n      <th>min</th>\n      <th>max</th>\n    </tr>\n    <tr>\n      <th>occupation</th>\n      <th>gender</th>\n      <th></th>\n      <th></th>\n      <th></th>\n    </tr>\n  </thead>\n  <tbody>\n    <tr>\n      <th rowspan=\"2\" valign=\"top\">administrator</th>\n      <th>F</th>\n      <td>40.638889</td>\n      <td>22</td>\n      <td>62</td>\n    </tr>\n    <tr>\n      <th>M</th>\n      <td>37.162791</td>\n      <td>21</td>\n      <td>70</td>\n    </tr>\n    <tr>\n      <th rowspan=\"2\" valign=\"top\">artist</th>\n      <th>F</th>\n      <td>30.307692</td>\n      <td>19</td>\n      <td>48</td>\n    </tr>\n    <tr>\n      <th>M</th>\n      <td>32.333333</td>\n      <td>20</td>\n      <td>45</td>\n    </tr>\n    <tr>\n      <th>doctor</th>\n      <th>M</th>\n      <td>43.571429</td>\n      <td>28</td>\n      <td>64</td>\n    </tr>\n    <tr>\n      <th rowspan=\"2\" valign=\"top\">educator</th>\n      <th>F</th>\n      <td>39.115385</td>\n      <td>23</td>\n      <td>51</td>\n    </tr>\n    <tr>\n      <th>M</th>\n      <td>43.101449</td>\n      <td>25</td>\n      <td>63</td>\n    </tr>\n    <tr>\n      <th rowspan=\"2\" valign=\"top\">engineer</th>\n      <th>F</th>\n      <td>29.500000</td>\n      <td>23</td>\n      <td>36</td>\n    </tr>\n    <tr>\n      <th>M</th>\n      <td>36.600000</td>\n      <td>22</td>\n      <td>70</td>\n    </tr>\n    <tr>\n      <th rowspan=\"2\" valign=\"top\">entertainment</th>\n      <th>F</th>\n      <td>31.000000</td>\n      <td>24</td>\n      <td>38</td>\n    </tr>\n    <tr>\n      <th>M</th>\n      <td>29.000000</td>\n      <td>15</td>\n      <td>50</td>\n    </tr>\n    <tr>\n      <th rowspan=\"2\" valign=\"top\">executive</th>\n      <th>F</th>\n      <td>44.000000</td>\n      <td>39</td>\n      <td>49</td>\n    </tr>\n    <tr>\n      <th>M</th>\n      <td>38.172414</td>\n      <td>22</td>\n      <td>69</td>\n    </tr>\n    <tr>\n      <th rowspan=\"2\" valign=\"top\">healthcare</th>\n      <th>F</th>\n      <td>39.818182</td>\n      <td>22</td>\n      <td>53</td>\n    </tr>\n    <tr>\n      <th>M</th>\n      <td>45.400000</td>\n      <td>28</td>\n      <td>62</td>\n    </tr>\n    <tr>\n      <th rowspan=\"2\" valign=\"top\">homemaker</th>\n      <th>F</th>\n      <td>34.166667</td>\n      <td>20</td>\n      <td>50</td>\n    </tr>\n    <tr>\n      <th>M</th>\n      <td>23.000000</td>\n      <td>23</td>\n      <td>23</td>\n    </tr>\n    <tr>\n      <th rowspan=\"2\" valign=\"top\">lawyer</th>\n      <th>F</th>\n      <td>39.500000</td>\n      <td>28</td>\n      <td>51</td>\n    </tr>\n    <tr>\n      <th>M</th>\n      <td>36.200000</td>\n      <td>21</td>\n      <td>53</td>\n    </tr>\n    <tr>\n      <th rowspan=\"2\" valign=\"top\">librarian</th>\n      <th>F</th>\n      <td>40.000000</td>\n      <td>26</td>\n      <td>59</td>\n    </tr>\n    <tr>\n      <th>M</th>\n      <td>40.000000</td>\n      <td>23</td>\n      <td>69</td>\n    </tr>\n    <tr>\n      <th rowspan=\"2\" valign=\"top\">marketing</th>\n      <th>F</th>\n      <td>37.200000</td>\n      <td>24</td>\n      <td>50</td>\n    </tr>\n    <tr>\n      <th>M</th>\n      <td>37.875000</td>\n      <td>24</td>\n      <td>55</td>\n    </tr>\n    <tr>\n      <th rowspan=\"2\" valign=\"top\">none</th>\n      <th>F</th>\n      <td>36.500000</td>\n      <td>26</td>\n      <td>55</td>\n    </tr>\n    <tr>\n      <th>M</th>\n      <td>18.600000</td>\n      <td>11</td>\n      <td>33</td>\n    </tr>\n    <tr>\n      <th rowspan=\"2\" valign=\"top\">other</th>\n      <th>F</th>\n      <td>35.472222</td>\n      <td>18</td>\n      <td>55</td>\n    </tr>\n    <tr>\n      <th>M</th>\n      <td>34.028986</td>\n      <td>13</td>\n      <td>64</td>\n    </tr>\n    <tr>\n      <th rowspan=\"2\" valign=\"top\">programmer</th>\n      <th>F</th>\n      <td>32.166667</td>\n      <td>26</td>\n      <td>38</td>\n    </tr>\n    <tr>\n      <th>M</th>\n      <td>33.216667</td>\n      <td>20</td>\n      <td>63</td>\n    </tr>\n    <tr>\n      <th rowspan=\"2\" valign=\"top\">retired</th>\n      <th>F</th>\n      <td>70.000000</td>\n      <td>70</td>\n      <td>70</td>\n    </tr>\n    <tr>\n      <th>M</th>\n      <td>62.538462</td>\n      <td>51</td>\n      <td>73</td>\n    </tr>\n    <tr>\n      <th rowspan=\"2\" valign=\"top\">salesman</th>\n      <th>F</th>\n      <td>27.000000</td>\n      <td>18</td>\n      <td>33</td>\n    </tr>\n    <tr>\n      <th>M</th>\n      <td>38.555556</td>\n      <td>21</td>\n      <td>66</td>\n    </tr>\n    <tr>\n      <th rowspan=\"2\" valign=\"top\">scientist</th>\n      <th>F</th>\n      <td>28.333333</td>\n      <td>26</td>\n      <td>31</td>\n    </tr>\n    <tr>\n      <th>M</th>\n      <td>36.321429</td>\n      <td>23</td>\n      <td>55</td>\n    </tr>\n    <tr>\n      <th rowspan=\"2\" valign=\"top\">student</th>\n      <th>F</th>\n      <td>20.750000</td>\n      <td>13</td>\n      <td>38</td>\n    </tr>\n    <tr>\n      <th>M</th>\n      <td>22.669118</td>\n      <td>7</td>\n      <td>42</td>\n    </tr>\n    <tr>\n      <th rowspan=\"2\" valign=\"top\">technician</th>\n      <th>F</th>\n      <td>38.000000</td>\n      <td>38</td>\n      <td>38</td>\n    </tr>\n    <tr>\n      <th>M</th>\n      <td>32.961538</td>\n      <td>21</td>\n      <td>55</td>\n    </tr>\n    <tr>\n      <th rowspan=\"2\" valign=\"top\">writer</th>\n      <th>F</th>\n      <td>37.631579</td>\n      <td>18</td>\n      <td>56</td>\n    </tr>\n    <tr>\n      <th>M</th>\n      <td>35.346154</td>\n      <td>21</td>\n      <td>60</td>\n    </tr>\n  </tbody>\n</table>\n</div>"
     },
     "metadata": {},
     "execution_count": 23
    }
   ],
   "source": [
    "(users\n",
    ".groupby([\"occupation\", \"gender\"])\n",
    ".agg({\"age\": [\"mean\", \"min\", \"max\"]}))"
   ]
  },
  {
   "cell_type": "markdown",
   "metadata": {
    "colab_type": "text",
    "id": "B2TxLDyoujK3"
   },
   "source": [
    "#### Tarefa 5. Para cada ocupação calcule a porcentagem de homens e mulheres.\n",
    "\n",
    "Exemplo:\n",
    "\n",
    "```\n",
    "occupation     gender\n",
    "administrator  F          45.569620\n",
    "               M          54.430380\n",
    "artist         F          46.428571\n",
    "               M          53.571429\n",
    "doctor         M         100.000000\n",
    "educator       F          27.368421\n",
    "               M          72.631579\n",
    "```"
   ]
  },
  {
   "cell_type": "code",
   "execution_count": 33,
   "metadata": {
    "colab": {},
    "colab_type": "code",
    "id": "XnBH1LMuujK4"
   },
   "outputs": [
    {
     "output_type": "execute_result",
     "data": {
      "text/plain": [
       "                         user_id\n",
       "occupation    gender            \n",
       "administrator F        45.569620\n",
       "              M        54.430380\n",
       "artist        F        46.428571\n",
       "              M        53.571429\n",
       "doctor        M       100.000000\n",
       "educator      F        27.368421\n",
       "              M        72.631579\n",
       "engineer      F         2.985075\n",
       "              M        97.014925\n",
       "entertainment F        11.111111\n",
       "              M        88.888889\n",
       "executive     F         9.375000\n",
       "              M        90.625000\n",
       "healthcare    F        68.750000\n",
       "              M        31.250000\n",
       "homemaker     F        85.714286\n",
       "              M        14.285714\n",
       "lawyer        F        16.666667\n",
       "              M        83.333333\n",
       "librarian     F        56.862745\n",
       "              M        43.137255\n",
       "marketing     F        38.461538\n",
       "              M        61.538462\n",
       "none          F        44.444444\n",
       "              M        55.555556\n",
       "other         F        34.285714\n",
       "              M        65.714286\n",
       "programmer    F         9.090909\n",
       "              M        90.909091\n",
       "retired       F         7.142857\n",
       "              M        92.857143\n",
       "salesman      F        25.000000\n",
       "              M        75.000000\n",
       "scientist     F         9.677419\n",
       "              M        90.322581\n",
       "student       F        30.612245\n",
       "              M        69.387755\n",
       "technician    F         3.703704\n",
       "              M        96.296296\n",
       "writer        F        42.222222\n",
       "              M        57.777778"
      ],
      "text/html": "<div>\n<style scoped>\n    .dataframe tbody tr th:only-of-type {\n        vertical-align: middle;\n    }\n\n    .dataframe tbody tr th {\n        vertical-align: top;\n    }\n\n    .dataframe thead th {\n        text-align: right;\n    }\n</style>\n<table border=\"1\" class=\"dataframe\">\n  <thead>\n    <tr style=\"text-align: right;\">\n      <th></th>\n      <th></th>\n      <th>user_id</th>\n    </tr>\n    <tr>\n      <th>occupation</th>\n      <th>gender</th>\n      <th></th>\n    </tr>\n  </thead>\n  <tbody>\n    <tr>\n      <th rowspan=\"2\" valign=\"top\">administrator</th>\n      <th>F</th>\n      <td>45.569620</td>\n    </tr>\n    <tr>\n      <th>M</th>\n      <td>54.430380</td>\n    </tr>\n    <tr>\n      <th rowspan=\"2\" valign=\"top\">artist</th>\n      <th>F</th>\n      <td>46.428571</td>\n    </tr>\n    <tr>\n      <th>M</th>\n      <td>53.571429</td>\n    </tr>\n    <tr>\n      <th>doctor</th>\n      <th>M</th>\n      <td>100.000000</td>\n    </tr>\n    <tr>\n      <th rowspan=\"2\" valign=\"top\">educator</th>\n      <th>F</th>\n      <td>27.368421</td>\n    </tr>\n    <tr>\n      <th>M</th>\n      <td>72.631579</td>\n    </tr>\n    <tr>\n      <th rowspan=\"2\" valign=\"top\">engineer</th>\n      <th>F</th>\n      <td>2.985075</td>\n    </tr>\n    <tr>\n      <th>M</th>\n      <td>97.014925</td>\n    </tr>\n    <tr>\n      <th rowspan=\"2\" valign=\"top\">entertainment</th>\n      <th>F</th>\n      <td>11.111111</td>\n    </tr>\n    <tr>\n      <th>M</th>\n      <td>88.888889</td>\n    </tr>\n    <tr>\n      <th rowspan=\"2\" valign=\"top\">executive</th>\n      <th>F</th>\n      <td>9.375000</td>\n    </tr>\n    <tr>\n      <th>M</th>\n      <td>90.625000</td>\n    </tr>\n    <tr>\n      <th rowspan=\"2\" valign=\"top\">healthcare</th>\n      <th>F</th>\n      <td>68.750000</td>\n    </tr>\n    <tr>\n      <th>M</th>\n      <td>31.250000</td>\n    </tr>\n    <tr>\n      <th rowspan=\"2\" valign=\"top\">homemaker</th>\n      <th>F</th>\n      <td>85.714286</td>\n    </tr>\n    <tr>\n      <th>M</th>\n      <td>14.285714</td>\n    </tr>\n    <tr>\n      <th rowspan=\"2\" valign=\"top\">lawyer</th>\n      <th>F</th>\n      <td>16.666667</td>\n    </tr>\n    <tr>\n      <th>M</th>\n      <td>83.333333</td>\n    </tr>\n    <tr>\n      <th rowspan=\"2\" valign=\"top\">librarian</th>\n      <th>F</th>\n      <td>56.862745</td>\n    </tr>\n    <tr>\n      <th>M</th>\n      <td>43.137255</td>\n    </tr>\n    <tr>\n      <th rowspan=\"2\" valign=\"top\">marketing</th>\n      <th>F</th>\n      <td>38.461538</td>\n    </tr>\n    <tr>\n      <th>M</th>\n      <td>61.538462</td>\n    </tr>\n    <tr>\n      <th rowspan=\"2\" valign=\"top\">none</th>\n      <th>F</th>\n      <td>44.444444</td>\n    </tr>\n    <tr>\n      <th>M</th>\n      <td>55.555556</td>\n    </tr>\n    <tr>\n      <th rowspan=\"2\" valign=\"top\">other</th>\n      <th>F</th>\n      <td>34.285714</td>\n    </tr>\n    <tr>\n      <th>M</th>\n      <td>65.714286</td>\n    </tr>\n    <tr>\n      <th rowspan=\"2\" valign=\"top\">programmer</th>\n      <th>F</th>\n      <td>9.090909</td>\n    </tr>\n    <tr>\n      <th>M</th>\n      <td>90.909091</td>\n    </tr>\n    <tr>\n      <th rowspan=\"2\" valign=\"top\">retired</th>\n      <th>F</th>\n      <td>7.142857</td>\n    </tr>\n    <tr>\n      <th>M</th>\n      <td>92.857143</td>\n    </tr>\n    <tr>\n      <th rowspan=\"2\" valign=\"top\">salesman</th>\n      <th>F</th>\n      <td>25.000000</td>\n    </tr>\n    <tr>\n      <th>M</th>\n      <td>75.000000</td>\n    </tr>\n    <tr>\n      <th rowspan=\"2\" valign=\"top\">scientist</th>\n      <th>F</th>\n      <td>9.677419</td>\n    </tr>\n    <tr>\n      <th>M</th>\n      <td>90.322581</td>\n    </tr>\n    <tr>\n      <th rowspan=\"2\" valign=\"top\">student</th>\n      <th>F</th>\n      <td>30.612245</td>\n    </tr>\n    <tr>\n      <th>M</th>\n      <td>69.387755</td>\n    </tr>\n    <tr>\n      <th rowspan=\"2\" valign=\"top\">technician</th>\n      <th>F</th>\n      <td>3.703704</td>\n    </tr>\n    <tr>\n      <th>M</th>\n      <td>96.296296</td>\n    </tr>\n    <tr>\n      <th rowspan=\"2\" valign=\"top\">writer</th>\n      <th>F</th>\n      <td>42.222222</td>\n    </tr>\n    <tr>\n      <th>M</th>\n      <td>57.777778</td>\n    </tr>\n  </tbody>\n</table>\n</div>"
     },
     "metadata": {},
     "execution_count": 33
    }
   ],
   "source": [
    "((users\n",
    ".groupby([\"occupation\",\"gender\"])\n",
    ".agg({\"user_id\": \"count\"})) \n",
    "/ \n",
    "users.groupby(\"occupation\").agg({\"user_id\" : \"count\"})) * 100"
   ]
  },
  {
   "cell_type": "code",
   "execution_count": 37,
   "metadata": {},
   "outputs": [
    {
     "output_type": "execute_result",
     "data": {
      "text/plain": [
       "                          gender\n",
       "occupation    gender            \n",
       "administrator F        45.569620\n",
       "              M        54.430380\n",
       "artist        F        46.428571\n",
       "              M        53.571429\n",
       "doctor        M       100.000000\n",
       "educator      F        27.368421\n",
       "              M        72.631579\n",
       "engineer      F         2.985075\n",
       "              M        97.014925\n",
       "entertainment F        11.111111\n",
       "              M        88.888889\n",
       "executive     F         9.375000\n",
       "              M        90.625000\n",
       "healthcare    F        68.750000\n",
       "              M        31.250000\n",
       "homemaker     F        85.714286\n",
       "              M        14.285714\n",
       "lawyer        F        16.666667\n",
       "              M        83.333333\n",
       "librarian     F        56.862745\n",
       "              M        43.137255\n",
       "marketing     F        38.461538\n",
       "              M        61.538462\n",
       "none          F        44.444444\n",
       "              M        55.555556\n",
       "other         F        34.285714\n",
       "              M        65.714286\n",
       "programmer    F         9.090909\n",
       "              M        90.909091\n",
       "retired       F         7.142857\n",
       "              M        92.857143\n",
       "salesman      F        25.000000\n",
       "              M        75.000000\n",
       "scientist     F         9.677419\n",
       "              M        90.322581\n",
       "student       F        30.612245\n",
       "              M        69.387755\n",
       "technician    F         3.703704\n",
       "              M        96.296296\n",
       "writer        F        42.222222\n",
       "              M        57.777778"
      ],
      "text/html": "<div>\n<style scoped>\n    .dataframe tbody tr th:only-of-type {\n        vertical-align: middle;\n    }\n\n    .dataframe tbody tr th {\n        vertical-align: top;\n    }\n\n    .dataframe thead th {\n        text-align: right;\n    }\n</style>\n<table border=\"1\" class=\"dataframe\">\n  <thead>\n    <tr style=\"text-align: right;\">\n      <th></th>\n      <th></th>\n      <th>gender</th>\n    </tr>\n    <tr>\n      <th>occupation</th>\n      <th>gender</th>\n      <th></th>\n    </tr>\n  </thead>\n  <tbody>\n    <tr>\n      <th rowspan=\"2\" valign=\"top\">administrator</th>\n      <th>F</th>\n      <td>45.569620</td>\n    </tr>\n    <tr>\n      <th>M</th>\n      <td>54.430380</td>\n    </tr>\n    <tr>\n      <th rowspan=\"2\" valign=\"top\">artist</th>\n      <th>F</th>\n      <td>46.428571</td>\n    </tr>\n    <tr>\n      <th>M</th>\n      <td>53.571429</td>\n    </tr>\n    <tr>\n      <th>doctor</th>\n      <th>M</th>\n      <td>100.000000</td>\n    </tr>\n    <tr>\n      <th rowspan=\"2\" valign=\"top\">educator</th>\n      <th>F</th>\n      <td>27.368421</td>\n    </tr>\n    <tr>\n      <th>M</th>\n      <td>72.631579</td>\n    </tr>\n    <tr>\n      <th rowspan=\"2\" valign=\"top\">engineer</th>\n      <th>F</th>\n      <td>2.985075</td>\n    </tr>\n    <tr>\n      <th>M</th>\n      <td>97.014925</td>\n    </tr>\n    <tr>\n      <th rowspan=\"2\" valign=\"top\">entertainment</th>\n      <th>F</th>\n      <td>11.111111</td>\n    </tr>\n    <tr>\n      <th>M</th>\n      <td>88.888889</td>\n    </tr>\n    <tr>\n      <th rowspan=\"2\" valign=\"top\">executive</th>\n      <th>F</th>\n      <td>9.375000</td>\n    </tr>\n    <tr>\n      <th>M</th>\n      <td>90.625000</td>\n    </tr>\n    <tr>\n      <th rowspan=\"2\" valign=\"top\">healthcare</th>\n      <th>F</th>\n      <td>68.750000</td>\n    </tr>\n    <tr>\n      <th>M</th>\n      <td>31.250000</td>\n    </tr>\n    <tr>\n      <th rowspan=\"2\" valign=\"top\">homemaker</th>\n      <th>F</th>\n      <td>85.714286</td>\n    </tr>\n    <tr>\n      <th>M</th>\n      <td>14.285714</td>\n    </tr>\n    <tr>\n      <th rowspan=\"2\" valign=\"top\">lawyer</th>\n      <th>F</th>\n      <td>16.666667</td>\n    </tr>\n    <tr>\n      <th>M</th>\n      <td>83.333333</td>\n    </tr>\n    <tr>\n      <th rowspan=\"2\" valign=\"top\">librarian</th>\n      <th>F</th>\n      <td>56.862745</td>\n    </tr>\n    <tr>\n      <th>M</th>\n      <td>43.137255</td>\n    </tr>\n    <tr>\n      <th rowspan=\"2\" valign=\"top\">marketing</th>\n      <th>F</th>\n      <td>38.461538</td>\n    </tr>\n    <tr>\n      <th>M</th>\n      <td>61.538462</td>\n    </tr>\n    <tr>\n      <th rowspan=\"2\" valign=\"top\">none</th>\n      <th>F</th>\n      <td>44.444444</td>\n    </tr>\n    <tr>\n      <th>M</th>\n      <td>55.555556</td>\n    </tr>\n    <tr>\n      <th rowspan=\"2\" valign=\"top\">other</th>\n      <th>F</th>\n      <td>34.285714</td>\n    </tr>\n    <tr>\n      <th>M</th>\n      <td>65.714286</td>\n    </tr>\n    <tr>\n      <th rowspan=\"2\" valign=\"top\">programmer</th>\n      <th>F</th>\n      <td>9.090909</td>\n    </tr>\n    <tr>\n      <th>M</th>\n      <td>90.909091</td>\n    </tr>\n    <tr>\n      <th rowspan=\"2\" valign=\"top\">retired</th>\n      <th>F</th>\n      <td>7.142857</td>\n    </tr>\n    <tr>\n      <th>M</th>\n      <td>92.857143</td>\n    </tr>\n    <tr>\n      <th rowspan=\"2\" valign=\"top\">salesman</th>\n      <th>F</th>\n      <td>25.000000</td>\n    </tr>\n    <tr>\n      <th>M</th>\n      <td>75.000000</td>\n    </tr>\n    <tr>\n      <th rowspan=\"2\" valign=\"top\">scientist</th>\n      <th>F</th>\n      <td>9.677419</td>\n    </tr>\n    <tr>\n      <th>M</th>\n      <td>90.322581</td>\n    </tr>\n    <tr>\n      <th rowspan=\"2\" valign=\"top\">student</th>\n      <th>F</th>\n      <td>30.612245</td>\n    </tr>\n    <tr>\n      <th>M</th>\n      <td>69.387755</td>\n    </tr>\n    <tr>\n      <th rowspan=\"2\" valign=\"top\">technician</th>\n      <th>F</th>\n      <td>3.703704</td>\n    </tr>\n    <tr>\n      <th>M</th>\n      <td>96.296296</td>\n    </tr>\n    <tr>\n      <th rowspan=\"2\" valign=\"top\">writer</th>\n      <th>F</th>\n      <td>42.222222</td>\n    </tr>\n    <tr>\n      <th>M</th>\n      <td>57.777778</td>\n    </tr>\n  </tbody>\n</table>\n</div>"
     },
     "metadata": {},
     "execution_count": 37
    }
   ],
   "source": [
    "#outra maneira\n",
    "users.groupby(['occupation', 'gender'])['gender'].size().groupby(level=0).apply(lambda x: 100 * x / float(x.sum())).to_frame()\n"
   ]
  },
  {
   "cell_type": "markdown",
   "metadata": {
    "colab_type": "text",
    "id": "Wkw71CayujK-"
   },
   "source": [
    "**Parabéns! Você chegou ao fim!**"
   ]
  }
 ],
 "metadata": {
  "colab": {
   "collapsed_sections": [],
   "name": "Exercicios_unidade_5_Manipulacao_de_Dados_Parte_03.ipynb",
   "provenance": []
  },
  "kernelspec": {
   "name": "python3",
   "display_name": "Python 3.8.5 64-bit ('base': conda)"
  },
  "language_info": {
   "codemirror_mode": {
    "name": "ipython",
    "version": 3
   },
   "file_extension": ".py",
   "mimetype": "text/x-python",
   "name": "python",
   "nbconvert_exporter": "python",
   "pygments_lexer": "ipython3",
   "version": "3.8.5"
  },
  "interpreter": {
   "hash": "eed3d826270b94bd46bf648186255016b839453b36819d31e6168b26975dcf6a"
  }
 },
 "nbformat": 4,
 "nbformat_minor": 1
}